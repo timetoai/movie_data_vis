{
 "cells": [
  {
   "cell_type": "code",
   "execution_count": 1,
   "metadata": {},
   "outputs": [],
   "source": [
    "import json\n",
    "from pathlib import Path\n",
    "from tqdm import tqdm\n",
    "\n",
    "import numpy as np\n",
    "import pandas as pd"
   ]
  },
  {
   "cell_type": "code",
   "execution_count": 2,
   "metadata": {},
   "outputs": [],
   "source": [
    "data_dir = Path(\"data\")"
   ]
  },
  {
   "cell_type": "code",
   "execution_count": 3,
   "metadata": {},
   "outputs": [],
   "source": [
    "with open(data_dir / \"col_decoder.json\", \"r\") as f:\n",
    "    col_decoder = json.load(f)\n",
    "genres = col_decoder['genres'].values()"
   ]
  },
  {
   "cell_type": "code",
   "execution_count": 6,
   "metadata": {},
   "outputs": [],
   "source": [
    "with open(data_dir / f\"genre_names.json\", \"w\") as f:\n",
    "        json.dump(list(genres), f)"
   ]
  },
  {
   "cell_type": "code",
   "execution_count": 82,
   "metadata": {},
   "outputs": [],
   "source": [
    "def validate_json(s):\n",
    "    if len(s) == 2:\n",
    "        return False\n",
    "    try:\n",
    "        json.loads(s.replace(\"\\'\", \"\\\"\"))\n",
    "        return True\n",
    "    except:\n",
    "        return False"
   ]
  },
  {
   "cell_type": "code",
   "execution_count": 83,
   "metadata": {},
   "outputs": [
    {
     "name": "stderr",
     "output_type": "stream",
     "text": [
      "c:\\Users\\Владислав\\AppData\\Local\\Programs\\Python\\Python38\\lib\\site-packages\\IPython\\core\\interactiveshell.py:3444: DtypeWarning: Columns (10) have mixed types.Specify dtype option on import or set low_memory=False.\n",
      "  exec(code_obj, self.user_global_ns, self.user_ns)\n"
     ]
    },
    {
     "name": "stdout",
     "output_type": "stream",
     "text": [
      "30783\n"
     ]
    },
    {
     "data": {
      "text/html": [
       "<div>\n",
       "<style scoped>\n",
       "    .dataframe tbody tr th:only-of-type {\n",
       "        vertical-align: middle;\n",
       "    }\n",
       "\n",
       "    .dataframe tbody tr th {\n",
       "        vertical-align: top;\n",
       "    }\n",
       "\n",
       "    .dataframe thead th {\n",
       "        text-align: right;\n",
       "    }\n",
       "</style>\n",
       "<table border=\"1\" class=\"dataframe\">\n",
       "  <thead>\n",
       "    <tr style=\"text-align: right;\">\n",
       "      <th></th>\n",
       "      <th>adult</th>\n",
       "      <th>belongs_to_collection</th>\n",
       "      <th>budget</th>\n",
       "      <th>genres</th>\n",
       "      <th>homepage</th>\n",
       "      <th>id</th>\n",
       "      <th>imdb_id</th>\n",
       "      <th>original_language</th>\n",
       "      <th>original_title</th>\n",
       "      <th>overview</th>\n",
       "      <th>...</th>\n",
       "      <th>runtime</th>\n",
       "      <th>spoken_languages</th>\n",
       "      <th>status</th>\n",
       "      <th>tagline</th>\n",
       "      <th>title</th>\n",
       "      <th>video</th>\n",
       "      <th>vote_average</th>\n",
       "      <th>vote_count</th>\n",
       "      <th>year</th>\n",
       "      <th>ym</th>\n",
       "    </tr>\n",
       "  </thead>\n",
       "  <tbody>\n",
       "    <tr>\n",
       "      <th>4698</th>\n",
       "      <td>False</td>\n",
       "      <td>{'id': 41649, 'name': 'The Party Collection', ...</td>\n",
       "      <td>0</td>\n",
       "      <td>[{'id': 18, 'name': 'Drama'}, {'id': 10749, 'n...</td>\n",
       "      <td>NaN</td>\n",
       "      <td>166</td>\n",
       "      <td>tt0082100</td>\n",
       "      <td>fr</td>\n",
       "      <td>La Boum</td>\n",
       "      <td>Le Boum is the story of a 13-year-old French g...</td>\n",
       "      <td>...</td>\n",
       "      <td>110.0</td>\n",
       "      <td>[{'iso_639_1': 'fr', 'name': 'Français'}]</td>\n",
       "      <td>Released</td>\n",
       "      <td>NaN</td>\n",
       "      <td>The Party</td>\n",
       "      <td>False</td>\n",
       "      <td>6.4</td>\n",
       "      <td>225.0</td>\n",
       "      <td>1980</td>\n",
       "      <td>1980-01</td>\n",
       "    </tr>\n",
       "  </tbody>\n",
       "</table>\n",
       "<p>1 rows × 26 columns</p>\n",
       "</div>"
      ],
      "text/plain": [
       "      adult                              belongs_to_collection budget  \\\n",
       "4698  False  {'id': 41649, 'name': 'The Party Collection', ...      0   \n",
       "\n",
       "                                                 genres homepage   id  \\\n",
       "4698  [{'id': 18, 'name': 'Drama'}, {'id': 10749, 'n...      NaN  166   \n",
       "\n",
       "        imdb_id original_language original_title  \\\n",
       "4698  tt0082100                fr        La Boum   \n",
       "\n",
       "                                               overview  ... runtime  \\\n",
       "4698  Le Boum is the story of a 13-year-old French g...  ...   110.0   \n",
       "\n",
       "                               spoken_languages    status tagline      title  \\\n",
       "4698  [{'iso_639_1': 'fr', 'name': 'Français'}]  Released     NaN  The Party   \n",
       "\n",
       "      video  vote_average vote_count  year       ym  \n",
       "4698  False           6.4      225.0  1980  1980-01  \n",
       "\n",
       "[1 rows x 26 columns]"
      ]
     },
     "execution_count": 83,
     "metadata": {},
     "output_type": "execute_result"
    }
   ],
   "source": [
    "data = pd.read_csv(data_dir / \"movies_metadata.csv\")\n",
    "data = data[~ (data.genres.isna() | data.vote_average.isna() | data.title.isna() | data.overview.isna() | data.release_date.isna())]\n",
    "data = data[data.apply(lambda row: validate_json(row.genres), axis=1)]\n",
    "dtind = pd.DatetimeIndex(data.release_date)\n",
    "data['year'] = dtind.year\n",
    "data['ym'] = dtind.strftime(\"%Y-%m\")\n",
    "data = data[(data.year >= 1980) & (data.year <= 2016)]\n",
    "data.sort_values(\"ym\", inplace=True)\n",
    "print(len(data))\n",
    "data.head(1)"
   ]
  },
  {
   "cell_type": "markdown",
   "metadata": {},
   "source": [
    "Ratings by genre"
   ]
  },
  {
   "cell_type": "code",
   "execution_count": 11,
   "metadata": {},
   "outputs": [
    {
     "name": "stderr",
     "output_type": "stream",
     "text": [
      "100%|██████████| 20/20 [00:10<00:00,  1.86it/s]\n"
     ]
    }
   ],
   "source": [
    "for genre in tqdm(genres):\n",
    "    res = data[data.apply(lambda row: any([genre_row[\"name\"] == genre for genre_row in json.loads(row.genres.replace(\"\\'\", \"\\\"\"))]), axis=1)]\\\n",
    "            .groupby(\"ym\", as_index=False).agg(rate=(\"vote_average\", \"mean\"))\n",
    "    res[\"ym\"] = pd.DatetimeIndex(res['ym']).strftime(\"%Y-%m-%d\")\n",
    "\n",
    "    with open(data_dir / f\"genres_{genre}_rates.json\", \"w\") as f:\n",
    "        json.dump(res.to_json(orient=\"records\"), f)"
   ]
  },
  {
   "cell_type": "markdown",
   "metadata": {},
   "source": [
    "Words stats by genre"
   ]
  },
  {
   "cell_type": "code",
   "execution_count": 84,
   "metadata": {},
   "outputs": [],
   "source": [
    "data[\"text\"] = data[\"title\"] + \" \" + data[\"overview\"]"
   ]
  },
  {
   "cell_type": "code",
   "execution_count": 86,
   "metadata": {},
   "outputs": [],
   "source": [
    "import string\n",
    "from nltk.corpus import stopwords\n",
    "from collections import Counter\n",
    "import spacy\n",
    "\n",
    "\n",
    "sp = spacy.load('en_core_web_sm')\n",
    "signs = string.punctuation\n",
    "for i in range(10):\n",
    "    signs += str(i)\n",
    "table = str.maketrans('', '', signs)\n",
    "\n",
    "stop_words = set(stopwords.words('english'))\n",
    "stop_words |= {'-PRON-'}\n",
    "\n",
    "def preprocess_text(text):\n",
    "    words = text.split()\n",
    "    words = [word.lower() for word in words]\n",
    "    # punctuation and digits\n",
    "    words = [w.translate(table) for w in words if \n",
    "                   len(w.translate(table)) > 1]\n",
    "    # lematization\n",
    "    words = [token.lemma_ for token in sp(' '.join(words))]\n",
    "    # stop words\n",
    "    words = [w for w in words if not w in stop_words]\n",
    "    return list(sorted(Counter(words).items(), reverse=True, key=lambda x: x[1]))[:20]"
   ]
  },
  {
   "cell_type": "code",
   "execution_count": 87,
   "metadata": {},
   "outputs": [
    {
     "name": "stderr",
     "output_type": "stream",
     "text": [
      "100%|██████████| 20/20 [10:09<00:00, 30.49s/it]\n"
     ]
    }
   ],
   "source": [
    "for genre in tqdm(genres):\n",
    "    res = data[data.apply(lambda row: any([genre_row[\"name\"] == genre for genre_row in json.loads(row.genres.replace(\"\\'\", \"\\\"\"))]), axis=1)]\\\n",
    "            .groupby(\"year\", as_index=False).agg(text=(\"text\", lambda x: \" \".join(x)))\n",
    "    res[\"counts\"] = res[\"text\"].map(preprocess_text)\n",
    "    res.drop(columns=[\"text\"], inplace=True)\n",
    "\n",
    "    with open(data_dir / f\"genres_{genre}_wc.json\", \"w\") as f:\n",
    "        json.dump(res.to_json(orient=\"records\"), f)"
   ]
  },
  {
   "cell_type": "code",
   "execution_count": null,
   "metadata": {},
   "outputs": [],
   "source": []
  }
 ],
 "metadata": {
  "interpreter": {
   "hash": "1289e797c8b2364a1b561fc46768e8fcf8446b2e18e77ab0795c8743ff6ac10a"
  },
  "kernelspec": {
   "display_name": "Python 3.8.9 64-bit (system)",
   "language": "python",
   "name": "python3"
  },
  "language_info": {
   "codemirror_mode": {
    "name": "ipython",
    "version": 3
   },
   "file_extension": ".py",
   "mimetype": "text/x-python",
   "name": "python",
   "nbconvert_exporter": "python",
   "pygments_lexer": "ipython3",
   "version": "3.8.9"
  },
  "orig_nbformat": 4
 },
 "nbformat": 4,
 "nbformat_minor": 2
}
